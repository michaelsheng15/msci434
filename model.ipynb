{
 "cells": [
  {
   "cell_type": "code",
   "execution_count": 2,
   "metadata": {},
   "outputs": [
    {
     "ename": "SyntaxError",
     "evalue": "incomplete input (2791291240.py, line 57)",
     "output_type": "error",
     "traceback": [
      "\u001b[0;36m  Cell \u001b[0;32mIn[2], line 57\u001b[0;36m\u001b[0m\n\u001b[0;31m    gp.quicksum(x_st[s, d] for s in N if (s, d) in c_st) == gp.quicksum(x_st[d, t] for t in N if (d, t) in c_s\u001b[0m\n\u001b[0m                                                                                                              ^\u001b[0m\n\u001b[0;31mSyntaxError\u001b[0m\u001b[0;31m:\u001b[0m incomplete input\n"
     ]
    }
   ],
   "source": [
    "import gurobipy as gp\n",
    "from gurobipy import GRB\n",
    "\n",
    "# Sample data\n",
    "R = ['R1', 'R2']  # Set of retailers\n",
    "N = ['N1', 'N2', 'N3']  # Set of nodes (could be suppliers, transshipment centers, retailers)\n",
    "F = ['F1', 'F2']  # Set of suppliers\n",
    "p = 10  # Unit product price\n",
    "c = 5  # Unit production cost\n",
    "c_st = {('N1', 'N2'): 3, ('N1', 'N3'): 4, ('N2', 'N3'): 2}  # Transportation costs between nodes\n",
    "b_r = {'R1': 100, 'R2': 150}  # Random demand for the product at each retailer\n",
    "m_s = {'F1': 200, 'F2': 250}  # Maximum supply for each supplier\n",
    "m_td = {'N1': 300, 'N2': 400, 'N3': 350}  # Maximum transshipment quantity\n",
    "\n",
    "# Create a new model\n",
    "model = gp.Model(\"SupplyChainOptimization\")\n",
    "\n",
    "# Create variables\n",
    "x_st = model.addVars(N, N, name=\"x_st\", vtype=GRB.CONTINUOUS, lb=0)  # Quantity shipped from node s to node t\n",
    "s_j = model.addVars(F, name=\"s_j\", vtype=GRB.CONTINUOUS, lb=0)  # Production quantity of supplier j\n",
    "\n",
    "# Set objective: Maximize profit\n",
    "model.setObjective(\n",
    "    gp.quicksum(p * b_r[r] for r in R) -\n",
    "    gp.quicksum(c_st[s, t] * x_st[s, t] for s in N for t in N if (s, t) in c_st) -\n",
    "    gp.quicksum(c * s_j[j] for j in F),\n",
    "    GRB.MAXIMIZE\n",
    ")\n",
    "\n",
    "# Constraints\n",
    "# Supply-Demand Balance\n",
    "model.addConstr(\n",
    "    gp.quicksum(s_j[j] for j in F) >= gp.quicksum(b_r[r] for r in R), \"SupplyDemandBalance\"\n",
    ")\n",
    "\n",
    "# Flow Conservation\n",
    "for j in F:\n",
    "    model.addConstr(\n",
    "        gp.quicksum(x_st[j, t] for t in N if (j, t) in c_st) == s_j[j], f\"FlowConservation_{j}\"\n",
    "    )\n",
    "\n",
    "# Supply Capacity\n",
    "for j in F:\n",
    "    model.addConstr(\n",
    "        s_j[j] <= m_s[j], f\"SupplyCapacity_{j}\"\n",
    "    )\n",
    "\n",
    "# Demand Fulfillment\n",
    "for r in R:\n",
    "    model.addConstr(\n",
    "        gp.quicksum(x_st[s, r] for s in N if (s, r) in c_st) == b_r[r], f\"DemandFulfillment_{r}\"\n",
    "    )\n",
    "\n",
    "# Transshipment Conservation\n",
    "for d in N:\n",
    "    model.addConstr(\n",
    "        gp.quicksum(x_st[s, d] for s in N if (s, d) in c_st) == gp.quicksum(x_st[d, t] for t in N if (d, t) in c_s"
   ]
  }
 ],
 "metadata": {
  "kernelspec": {
   "display_name": "Python 3",
   "language": "python",
   "name": "python3"
  },
  "language_info": {
   "codemirror_mode": {
    "name": "ipython",
    "version": 3
   },
   "file_extension": ".py",
   "mimetype": "text/x-python",
   "name": "python",
   "nbconvert_exporter": "python",
   "pygments_lexer": "ipython3",
   "version": "3.12.3"
  }
 },
 "nbformat": 4,
 "nbformat_minor": 2
}
